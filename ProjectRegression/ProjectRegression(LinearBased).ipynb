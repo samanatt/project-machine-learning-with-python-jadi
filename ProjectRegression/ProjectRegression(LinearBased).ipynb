{
 "cells": [
  {
   "cell_type": "markdown",
   "id": "0cb6d1bb",
   "metadata": {},
   "source": [
    "# Linear simple Regression"
   ]
  },
  {
   "cell_type": "code",
   "execution_count": 1,
   "id": "3462aca3",
   "metadata": {},
   "outputs": [],
   "source": [
    "import numpy as np\n",
    "import pandas as pd \n",
    "import matplotlib.pyplot as plt\n",
    "%matplotlib inline"
   ]
  },
  {
   "cell_type": "code",
   "execution_count": 2,
   "id": "f653ca56",
   "metadata": {},
   "outputs": [
    {
     "data": {
      "text/html": [
       "<div>\n",
       "<style scoped>\n",
       "    .dataframe tbody tr th:only-of-type {\n",
       "        vertical-align: middle;\n",
       "    }\n",
       "\n",
       "    .dataframe tbody tr th {\n",
       "        vertical-align: top;\n",
       "    }\n",
       "\n",
       "    .dataframe thead th {\n",
       "        text-align: right;\n",
       "    }\n",
       "</style>\n",
       "<table border=\"1\" class=\"dataframe\">\n",
       "  <thead>\n",
       "    <tr style=\"text-align: right;\">\n",
       "      <th></th>\n",
       "      <th>Area</th>\n",
       "      <th>Room</th>\n",
       "      <th>Parking</th>\n",
       "      <th>Warehouse</th>\n",
       "      <th>Elevator</th>\n",
       "      <th>Address</th>\n",
       "      <th>Price</th>\n",
       "      <th>Price(USD)</th>\n",
       "    </tr>\n",
       "  </thead>\n",
       "  <tbody>\n",
       "    <tr>\n",
       "      <th>0</th>\n",
       "      <td>63</td>\n",
       "      <td>1</td>\n",
       "      <td>True</td>\n",
       "      <td>True</td>\n",
       "      <td>True</td>\n",
       "      <td>Shahran</td>\n",
       "      <td>1.850000e+09</td>\n",
       "      <td>61666.67</td>\n",
       "    </tr>\n",
       "    <tr>\n",
       "      <th>1</th>\n",
       "      <td>60</td>\n",
       "      <td>1</td>\n",
       "      <td>True</td>\n",
       "      <td>True</td>\n",
       "      <td>True</td>\n",
       "      <td>Shahran</td>\n",
       "      <td>1.850000e+09</td>\n",
       "      <td>61666.67</td>\n",
       "    </tr>\n",
       "    <tr>\n",
       "      <th>2</th>\n",
       "      <td>79</td>\n",
       "      <td>2</td>\n",
       "      <td>True</td>\n",
       "      <td>True</td>\n",
       "      <td>True</td>\n",
       "      <td>Pardis</td>\n",
       "      <td>5.500000e+08</td>\n",
       "      <td>18333.33</td>\n",
       "    </tr>\n",
       "    <tr>\n",
       "      <th>3</th>\n",
       "      <td>95</td>\n",
       "      <td>2</td>\n",
       "      <td>True</td>\n",
       "      <td>True</td>\n",
       "      <td>True</td>\n",
       "      <td>Shahrake Qods</td>\n",
       "      <td>9.025000e+08</td>\n",
       "      <td>30083.33</td>\n",
       "    </tr>\n",
       "    <tr>\n",
       "      <th>4</th>\n",
       "      <td>123</td>\n",
       "      <td>2</td>\n",
       "      <td>True</td>\n",
       "      <td>True</td>\n",
       "      <td>True</td>\n",
       "      <td>Shahrake Gharb</td>\n",
       "      <td>7.000000e+09</td>\n",
       "      <td>233333.33</td>\n",
       "    </tr>\n",
       "    <tr>\n",
       "      <th>5</th>\n",
       "      <td>70</td>\n",
       "      <td>2</td>\n",
       "      <td>True</td>\n",
       "      <td>True</td>\n",
       "      <td>False</td>\n",
       "      <td>North Program Organization</td>\n",
       "      <td>2.050000e+09</td>\n",
       "      <td>68333.33</td>\n",
       "    </tr>\n",
       "    <tr>\n",
       "      <th>6</th>\n",
       "      <td>87</td>\n",
       "      <td>2</td>\n",
       "      <td>True</td>\n",
       "      <td>True</td>\n",
       "      <td>True</td>\n",
       "      <td>Pardis</td>\n",
       "      <td>6.000000e+08</td>\n",
       "      <td>20000.00</td>\n",
       "    </tr>\n",
       "    <tr>\n",
       "      <th>7</th>\n",
       "      <td>59</td>\n",
       "      <td>1</td>\n",
       "      <td>True</td>\n",
       "      <td>True</td>\n",
       "      <td>True</td>\n",
       "      <td>Shahran</td>\n",
       "      <td>2.150000e+09</td>\n",
       "      <td>71666.67</td>\n",
       "    </tr>\n",
       "    <tr>\n",
       "      <th>8</th>\n",
       "      <td>54</td>\n",
       "      <td>2</td>\n",
       "      <td>True</td>\n",
       "      <td>True</td>\n",
       "      <td>False</td>\n",
       "      <td>Andisheh</td>\n",
       "      <td>4.930000e+08</td>\n",
       "      <td>16433.33</td>\n",
       "    </tr>\n",
       "    <tr>\n",
       "      <th>9</th>\n",
       "      <td>71</td>\n",
       "      <td>1</td>\n",
       "      <td>True</td>\n",
       "      <td>True</td>\n",
       "      <td>True</td>\n",
       "      <td>West Ferdows Boulevard</td>\n",
       "      <td>2.370000e+09</td>\n",
       "      <td>79000.00</td>\n",
       "    </tr>\n",
       "  </tbody>\n",
       "</table>\n",
       "</div>"
      ],
      "text/plain": [
       "  Area  Room  Parking  Warehouse  Elevator                     Address  \\\n",
       "0   63     1     True       True      True                     Shahran   \n",
       "1   60     1     True       True      True                     Shahran   \n",
       "2   79     2     True       True      True                      Pardis   \n",
       "3   95     2     True       True      True               Shahrake Qods   \n",
       "4  123     2     True       True      True              Shahrake Gharb   \n",
       "5   70     2     True       True     False  North Program Organization   \n",
       "6   87     2     True       True      True                      Pardis   \n",
       "7   59     1     True       True      True                     Shahran   \n",
       "8   54     2     True       True     False                    Andisheh   \n",
       "9   71     1     True       True      True      West Ferdows Boulevard   \n",
       "\n",
       "          Price  Price(USD)  \n",
       "0  1.850000e+09    61666.67  \n",
       "1  1.850000e+09    61666.67  \n",
       "2  5.500000e+08    18333.33  \n",
       "3  9.025000e+08    30083.33  \n",
       "4  7.000000e+09   233333.33  \n",
       "5  2.050000e+09    68333.33  \n",
       "6  6.000000e+08    20000.00  \n",
       "7  2.150000e+09    71666.67  \n",
       "8  4.930000e+08    16433.33  \n",
       "9  2.370000e+09    79000.00  "
      ]
     },
     "execution_count": 2,
     "metadata": {},
     "output_type": "execute_result"
    }
   ],
   "source": [
    "df = pd.read_csv('HousePrice.csv')\n",
    "df.head(10)\n"
   ]
  },
  {
   "cell_type": "code",
   "execution_count": 3,
   "id": "07fc25a0",
   "metadata": {},
   "outputs": [
    {
     "name": "stdout",
     "output_type": "stream",
     "text": [
      "(3479, 8)\n",
      "The Dataset Describtion is:\n",
      "<bound method NDFrame.describe of      Area  Room  Parking  Warehouse  Elevator             Address  \\\n",
      "0      63     1     True       True      True             Shahran   \n",
      "1      60     1     True       True      True             Shahran   \n",
      "2      79     2     True       True      True              Pardis   \n",
      "3      95     2     True       True      True       Shahrake Qods   \n",
      "4     123     2     True       True      True      Shahrake Gharb   \n",
      "...   ...   ...      ...        ...       ...                 ...   \n",
      "3474   86     2     True       True      True  Southern Janatabad   \n",
      "3475   83     2     True       True      True            Niavaran   \n",
      "3476   75     2    False      False     False              Parand   \n",
      "3477  105     2     True       True      True              Dorous   \n",
      "3478   82     2    False       True      True              Parand   \n",
      "\n",
      "             Price  Price(USD)  \n",
      "0     1.850000e+09    61666.67  \n",
      "1     1.850000e+09    61666.67  \n",
      "2     5.500000e+08    18333.33  \n",
      "3     9.025000e+08    30083.33  \n",
      "4     7.000000e+09   233333.33  \n",
      "...            ...         ...  \n",
      "3474  3.500000e+09   116666.67  \n",
      "3475  6.800000e+09   226666.67  \n",
      "3476  3.650000e+08    12166.67  \n",
      "3477  5.600000e+09   186666.67  \n",
      "3478  3.600000e+08    12000.00  \n",
      "\n",
      "[3479 rows x 8 columns]>\n",
      "<bound method NDFrame._add_numeric_operations.<locals>.mean of      Area  Room  Parking  Warehouse  Elevator             Address  \\\n",
      "0      63     1     True       True      True             Shahran   \n",
      "1      60     1     True       True      True             Shahran   \n",
      "2      79     2     True       True      True              Pardis   \n",
      "3      95     2     True       True      True       Shahrake Qods   \n",
      "4     123     2     True       True      True      Shahrake Gharb   \n",
      "...   ...   ...      ...        ...       ...                 ...   \n",
      "3474   86     2     True       True      True  Southern Janatabad   \n",
      "3475   83     2     True       True      True            Niavaran   \n",
      "3476   75     2    False      False     False              Parand   \n",
      "3477  105     2     True       True      True              Dorous   \n",
      "3478   82     2    False       True      True              Parand   \n",
      "\n",
      "             Price  Price(USD)  \n",
      "0     1.850000e+09    61666.67  \n",
      "1     1.850000e+09    61666.67  \n",
      "2     5.500000e+08    18333.33  \n",
      "3     9.025000e+08    30083.33  \n",
      "4     7.000000e+09   233333.33  \n",
      "...            ...         ...  \n",
      "3474  3.500000e+09   116666.67  \n",
      "3475  6.800000e+09   226666.67  \n",
      "3476  3.650000e+08    12166.67  \n",
      "3477  5.600000e+09   186666.67  \n",
      "3478  3.600000e+08    12000.00  \n",
      "\n",
      "[3479 rows x 8 columns]>\n",
      "Area           object\n",
      "Room            int64\n",
      "Parking          bool\n",
      "Warehouse        bool\n",
      "Elevator         bool\n",
      "Address        object\n",
      "Price         float64\n",
      "Price(USD)    float64\n",
      "dtype: object\n",
      "Index(['Area', 'Room', 'Parking', 'Warehouse', 'Elevator', 'Address', 'Price',\n",
      "       'Price(USD)'],\n",
      "      dtype='object')\n"
     ]
    }
   ],
   "source": [
    "print(df.shape)\n",
    "print(f'The Dataset Describtion is:\\n{df.describe}')\n",
    "print(df.mean)\n",
    "print(df.dtypes)\n",
    "print(df.columns)"
   ]
  },
  {
   "cell_type": "code",
   "execution_count": 4,
   "id": "dd108026",
   "metadata": {},
   "outputs": [
    {
     "data": {
      "image/png": "[encoded data removed]",
      "text/plain": [
       "<Figure size 720x360 with 1 Axes>"
      ]
     },
     "metadata": {
      "needs_background": "light"
     },
     "output_type": "display_data"
    }
   ],
   "source": [
    "plt.figure(figsize=(10,5))\n",
    "plt.scatter(df.Area , df.Price, color='red')\n",
    "plt.xlabel('Area')\n",
    "plt.ylabel(\"Price\")\n",
    "plt.show()"
   ]
  },
  {
   "cell_type": "code",
   "execution_count": 5,
   "id": "f26b4bb3",
   "metadata": {},
   "outputs": [],
   "source": [
    "df['Area'] = df['Area'].replace([' ',','],'',regex=True)\n"
   ]
  },
  {
   "cell_type": "code",
   "execution_count": 6,
   "id": "e61e60e5",
   "metadata": {},
   "outputs": [],
   "source": [
    "df= df.dropna(subset='Area')\n",
    "df['Area'] = df['Area'].astype(float)"
   ]
  },
  {
   "cell_type": "code",
   "execution_count": 7,
   "id": "2fca06e2",
   "metadata": {},
   "outputs": [],
   "source": [
    "df = df[df['Area'] < 1000]"
   ]
  },
  {
   "cell_type": "code",
   "execution_count": 8,
   "id": "5b1b5376",
   "metadata": {},
   "outputs": [],
   "source": [
    "msk = np.random.rand(len(df))<= 0.8\n",
    "train = df[msk]\n",
    "test = df[~msk]"
   ]
  },
  {
   "cell_type": "code",
   "execution_count": 9,
   "id": "46193c8a",
   "metadata": {},
   "outputs": [
    {
     "name": "stdout",
     "output_type": "stream",
     "text": [
      "Coefficients:  [[85644882.88229029]]\n",
      "Intercept:  [-3.76342193e+09]\n"
     ]
    }
   ],
   "source": [
    "from sklearn import linear_model\n",
    "regr = linear_model.LinearRegression()\n",
    "train_x = np.asanyarray(train[['Area']])\n",
    "train_y = np.asanyarray(train[['Price']])\n",
    "regr.fit (train_x, train_y)\n",
    "# The coefficients\n",
    "print ('Coefficients: ', regr.coef_)\n",
    "print ('Intercept: ',regr.intercept_)"
   ]
  },
  {
   "cell_type": "code",
   "execution_count": 10,
   "id": "20875c97",
   "metadata": {
    "scrolled": true
   },
   "outputs": [
    {
     "data": {
      "image/png": "[encoded data removed]",
      "text/plain": [
       "<Figure size 720x360 with 1 Axes>"
      ]
     },
     "metadata": {
      "needs_background": "light"
     },
     "output_type": "display_data"
    }
   ],
   "source": [
    "plt.figure(figsize=(10,5))\n",
    "plt.scatter(train.Area , train.Price, color='blue')\n",
    "plt.plot(train_x , train_x * regr.coef_[0][0] + regr.intercept_[0],'r')\n",
    "plt.xlabel('Area')\n",
    "plt.ylabel(\"Price\")\n",
    "plt.show()"
   ]
  },
  {
   "cell_type": "code",
   "execution_count": 11,
   "id": "424d7554",
   "metadata": {
    "scrolled": true
   },
   "outputs": [
    {
     "name": "stdout",
     "output_type": "stream",
     "text": [
      "Residual sum of squares: 38224700450851864576.00\n",
      "Variance score: 0.51\n"
     ]
    },
    {
     "name": "stderr",
     "output_type": "stream",
     "text": [
      "C:\\Users\\Saman\\AppData\\Local\\Programs\\Python\\Python310\\lib\\site-packages\\sklearn\\base.py:443: UserWarning: X has feature names, but LinearRegression was fitted without feature names\n",
      "  warnings.warn(\n"
     ]
    }
   ],
   "source": [
    "from sklearn.metrics import r2_score\n",
    "y_hat= regr.predict(test[['Area']])\n",
    "x = np.asanyarray(test[['Area']])\n",
    "y = np.asanyarray(test[['Price']])\n",
    "print(\"Residual sum of squares: %.2f\"\n",
    "      % np.mean((y_hat - y) ** 2))\n",
    "\n",
    "print('Variance score: %.2f' % regr.score(x, y))"
   ]
  },
  {
   "cell_type": "markdown",
   "id": "4edacdac",
   "metadata": {},
   "source": [
    "# linear Multiple Regression"
   ]
  },
  {
   "cell_type": "code",
   "execution_count": 12,
   "id": "0facfc65",
   "metadata": {},
   "outputs": [],
   "source": [
    "from sklearn.preprocessing import LabelEncoder\n",
    "le = LabelEncoder()\n",
    "df['Address'] = le.fit_transform(df['Address'])\n",
    "# df['Address'] = pd.to_numeric(df['Address'], errors='coerce')\n",
    "df['Parking'] = df['Parking'].astype(int)\n",
    "\n",
    "df['Warehouse'] = df['Warehouse'].astype(int)\n",
    "# df['Warehouse'] = le.fit_transform(df['Warehouse'])\n",
    "\n",
    "df['Elevator'] = df['Elevator'].astype(int)"
   ]
  },
  {
   "cell_type": "code",
   "execution_count": 13,
   "id": "3cfde15c",
   "metadata": {},
   "outputs": [
    {
     "data": {
      "image/png": "[encoded data removed]",
      "text/plain": [
       "<Figure size 432x288 with 1 Axes>"
      ]
     },
     "metadata": {
      "needs_background": "light"
     },
     "output_type": "display_data"
    }
   ],
   "source": [
    "plt.scatter(df.Warehouse,df.Price,color = 'purple')\n",
    "plt.show()"
   ]
  },
  {
   "cell_type": "code",
   "execution_count": 14,
   "id": "5bf622d9",
   "metadata": {},
   "outputs": [
    {
     "data": {
      "image/png": "[encoded data removed]",
      "text/plain": [
       "<Figure size 720x360 with 1 Axes>"
      ]
     },
     "metadata": {
      "needs_background": "light"
     },
     "output_type": "display_data"
    }
   ],
   "source": [
    "plt.figure(figsize=(10,5))\n",
    "# list1 = ['Area','Room','Parking','Warehouse','Elevator','Address']\n",
    "plt.scatter(df.Address, df.Price, color='red')\n",
    "plt.xlabel('Adress')\n",
    "plt.ylabel(\"Price\")\n",
    "plt.show()"
   ]
  },
  {
   "cell_type": "code",
   "execution_count": 15,
   "id": "a5017cde",
   "metadata": {},
   "outputs": [],
   "source": [
    "msk = np.random.rand(len(df))<= 0.8\n",
    "train = df[msk]\n",
    "test = df[~msk]"
   ]
  },
  {
   "cell_type": "code",
   "execution_count": 16,
   "id": "33c22df0",
   "metadata": {},
   "outputs": [
    {
     "name": "stdout",
     "output_type": "stream",
     "text": [
      "Coefficients:  [[-5.61242663e+06  5.91488204e+09  7.11310021e+08  6.75785427e+08\n",
      "  -7.22622975e+07]]\n",
      "intercept:  [-7.51028284e+09]\n"
     ]
    }
   ],
   "source": [
    "from sklearn import linear_model\n",
    "regr = linear_model.LinearRegression()\n",
    "train_x = np.asanyarray(train[['Address','Room','Parking','Warehouse','Elevator']])\n",
    "train_y = np.asanyarray(train[['Price']])\n",
    "regr.fit(train_x, train_y)\n",
    "\n",
    "print ('Coefficients: ', regr.coef_)\n",
    "print ('intercept: ', regr.intercept_)"
   ]
  },
  {
   "cell_type": "code",
   "execution_count": 17,
   "id": "2ffbd411",
   "metadata": {},
   "outputs": [
    {
     "data": {
      "text/plain": [
       "<matplotlib.collections.PathCollection at 0x2104667a200>"
      ]
     },
     "execution_count": 17,
     "metadata": {},
     "output_type": "execute_result"
    },
    {
     "data": {
      "image/png": "[encoded data removed]",
      "text/plain": [
       "<Figure size 432x288 with 1 Axes>"
      ]
     },
     "metadata": {
      "needs_background": "light"
     },
     "output_type": "display_data"
    }
   ],
   "source": [
    "plt.scatter(train_x , train_x * regr.coef_[0][0]+ train_x * regr.coef_[0][1] +train_x * regr.coef_[0][2] +train_x * regr.coef_[0][3] +train_x * regr.coef_[0][4] + regr.intercept_[0] ,color='blue')\n"
   ]
  },
  {
   "cell_type": "code",
   "execution_count": 18,
   "id": "fc584a95",
   "metadata": {},
   "outputs": [
    {
     "name": "stdout",
     "output_type": "stream",
     "text": [
      "Residual sum of squares: 44910586796996419584.00\n",
      "Variance score: 0.33\n"
     ]
    },
    {
     "name": "stderr",
     "output_type": "stream",
     "text": [
      "C:\\Users\\Saman\\AppData\\Local\\Programs\\Python\\Python310\\lib\\site-packages\\sklearn\\base.py:443: UserWarning: X has feature names, but LinearRegression was fitted without feature names\n",
      "  warnings.warn(\n"
     ]
    }
   ],
   "source": [
    "y_hat= regr.predict(test[['Address','Room','Parking','Warehouse','Elevator']])\n",
    "test_x = np.asanyarray(test[['Address','Room','Parking','Warehouse','Elevator']])\n",
    "test_y = np.asanyarray(test[['Price']])\n",
    "print(\"Residual sum of squares: %.2f\"\n",
    "      % np.mean((y_hat - test_y) ** 2))\n",
    "\n",
    "# Explained variance score: 1 is perfect prediction\n",
    "print('Variance score: %.2f' % regr.score(test_x, test_y))"
   ]
  },
  {
   "cell_type": "markdown",
   "id": "0d39fd3a",
   "metadata": {},
   "source": [
    "### Linear Regression Model isnt Good for this Project Because of their bad Predict that shows in Variance score\n",
    "#### Simple LInear Regression Variance score: 0.56    ****      Multi LInear Regression Variance score: 0.30\n"
   ]
  }
 ],
 "metadata": {
  "kernelspec": {
   "display_name": "Python 3 (ipykernel)",
   "language": "python",
   "name": "python3"
  },
  "language_info": {
   "codemirror_mode": {
    "name": "ipython",
    "version": 3
   },
   "file_extension": ".py",
   "mimetype": "text/x-python",
   "name": "python",
   "nbconvert_exporter": "python",
   "pygments_lexer": "ipython3",
   "version": "3.10.2"
  }
 },
 "nbformat": 4,
 "nbformat_minor": 5
}
